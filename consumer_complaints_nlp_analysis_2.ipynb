{
  "nbformat": 4,
  "nbformat_minor": 0,
  "metadata": {
    "colab": {
      "provenance": []
    },
    "kernelspec": {
      "name": "python3",
      "display_name": "Python 3"
    },
    "language_info": {
      "name": "python"
    }
  },
  "cells": [
    {
      "cell_type": "code",
      "source": [
        "# Install all required libraries\n",
        "!pip install pandas numpy nltk spacy scikit-learn gensim"
      ],
      "metadata": {
        "id": "Qyc9xXoCSlu1",
        "colab": {
          "base_uri": "https://localhost:8080/"
        },
        "outputId": "448aa4c0-f0c8-4ebd-b114-afe0ec92ebab"
      },
      "execution_count": 1,
      "outputs": [
        {
          "output_type": "stream",
          "name": "stdout",
          "text": [
            "Requirement already satisfied: pandas in /usr/local/lib/python3.12/dist-packages (2.2.2)\n",
            "Requirement already satisfied: numpy in /usr/local/lib/python3.12/dist-packages (2.0.2)\n",
            "Requirement already satisfied: nltk in /usr/local/lib/python3.12/dist-packages (3.9.1)\n",
            "Requirement already satisfied: spacy in /usr/local/lib/python3.12/dist-packages (3.8.7)\n",
            "Requirement already satisfied: scikit-learn in /usr/local/lib/python3.12/dist-packages (1.6.1)\n",
            "Collecting gensim\n",
            "  Downloading gensim-4.4.0-cp312-cp312-manylinux_2_24_x86_64.manylinux_2_28_x86_64.whl.metadata (8.4 kB)\n",
            "Requirement already satisfied: python-dateutil>=2.8.2 in /usr/local/lib/python3.12/dist-packages (from pandas) (2.9.0.post0)\n",
            "Requirement already satisfied: pytz>=2020.1 in /usr/local/lib/python3.12/dist-packages (from pandas) (2025.2)\n",
            "Requirement already satisfied: tzdata>=2022.7 in /usr/local/lib/python3.12/dist-packages (from pandas) (2025.2)\n",
            "Requirement already satisfied: click in /usr/local/lib/python3.12/dist-packages (from nltk) (8.3.0)\n",
            "Requirement already satisfied: joblib in /usr/local/lib/python3.12/dist-packages (from nltk) (1.5.2)\n",
            "Requirement already satisfied: regex>=2021.8.3 in /usr/local/lib/python3.12/dist-packages (from nltk) (2024.11.6)\n",
            "Requirement already satisfied: tqdm in /usr/local/lib/python3.12/dist-packages (from nltk) (4.67.1)\n",
            "Requirement already satisfied: spacy-legacy<3.1.0,>=3.0.11 in /usr/local/lib/python3.12/dist-packages (from spacy) (3.0.12)\n",
            "Requirement already satisfied: spacy-loggers<2.0.0,>=1.0.0 in /usr/local/lib/python3.12/dist-packages (from spacy) (1.0.5)\n",
            "Requirement already satisfied: murmurhash<1.1.0,>=0.28.0 in /usr/local/lib/python3.12/dist-packages (from spacy) (1.0.13)\n",
            "Requirement already satisfied: cymem<2.1.0,>=2.0.2 in /usr/local/lib/python3.12/dist-packages (from spacy) (2.0.11)\n",
            "Requirement already satisfied: preshed<3.1.0,>=3.0.2 in /usr/local/lib/python3.12/dist-packages (from spacy) (3.0.10)\n",
            "Requirement already satisfied: thinc<8.4.0,>=8.3.4 in /usr/local/lib/python3.12/dist-packages (from spacy) (8.3.6)\n",
            "Requirement already satisfied: wasabi<1.2.0,>=0.9.1 in /usr/local/lib/python3.12/dist-packages (from spacy) (1.1.3)\n",
            "Requirement already satisfied: srsly<3.0.0,>=2.4.3 in /usr/local/lib/python3.12/dist-packages (from spacy) (2.5.1)\n",
            "Requirement already satisfied: catalogue<2.1.0,>=2.0.6 in /usr/local/lib/python3.12/dist-packages (from spacy) (2.0.10)\n",
            "Requirement already satisfied: weasel<0.5.0,>=0.1.0 in /usr/local/lib/python3.12/dist-packages (from spacy) (0.4.1)\n",
            "Requirement already satisfied: typer<1.0.0,>=0.3.0 in /usr/local/lib/python3.12/dist-packages (from spacy) (0.19.2)\n",
            "Requirement already satisfied: requests<3.0.0,>=2.13.0 in /usr/local/lib/python3.12/dist-packages (from spacy) (2.32.4)\n",
            "Requirement already satisfied: pydantic!=1.8,!=1.8.1,<3.0.0,>=1.7.4 in /usr/local/lib/python3.12/dist-packages (from spacy) (2.11.10)\n",
            "Requirement already satisfied: jinja2 in /usr/local/lib/python3.12/dist-packages (from spacy) (3.1.6)\n",
            "Requirement already satisfied: setuptools in /usr/local/lib/python3.12/dist-packages (from spacy) (75.2.0)\n",
            "Requirement already satisfied: packaging>=20.0 in /usr/local/lib/python3.12/dist-packages (from spacy) (25.0)\n",
            "Requirement already satisfied: langcodes<4.0.0,>=3.2.0 in /usr/local/lib/python3.12/dist-packages (from spacy) (3.5.0)\n",
            "Requirement already satisfied: scipy>=1.6.0 in /usr/local/lib/python3.12/dist-packages (from scikit-learn) (1.16.2)\n",
            "Requirement already satisfied: threadpoolctl>=3.1.0 in /usr/local/lib/python3.12/dist-packages (from scikit-learn) (3.6.0)\n",
            "Requirement already satisfied: smart_open>=1.8.1 in /usr/local/lib/python3.12/dist-packages (from gensim) (7.3.1)\n",
            "Requirement already satisfied: language-data>=1.2 in /usr/local/lib/python3.12/dist-packages (from langcodes<4.0.0,>=3.2.0->spacy) (1.3.0)\n",
            "Requirement already satisfied: annotated-types>=0.6.0 in /usr/local/lib/python3.12/dist-packages (from pydantic!=1.8,!=1.8.1,<3.0.0,>=1.7.4->spacy) (0.7.0)\n",
            "Requirement already satisfied: pydantic-core==2.33.2 in /usr/local/lib/python3.12/dist-packages (from pydantic!=1.8,!=1.8.1,<3.0.0,>=1.7.4->spacy) (2.33.2)\n",
            "Requirement already satisfied: typing-extensions>=4.12.2 in /usr/local/lib/python3.12/dist-packages (from pydantic!=1.8,!=1.8.1,<3.0.0,>=1.7.4->spacy) (4.15.0)\n",
            "Requirement already satisfied: typing-inspection>=0.4.0 in /usr/local/lib/python3.12/dist-packages (from pydantic!=1.8,!=1.8.1,<3.0.0,>=1.7.4->spacy) (0.4.2)\n",
            "Requirement already satisfied: six>=1.5 in /usr/local/lib/python3.12/dist-packages (from python-dateutil>=2.8.2->pandas) (1.17.0)\n",
            "Requirement already satisfied: charset_normalizer<4,>=2 in /usr/local/lib/python3.12/dist-packages (from requests<3.0.0,>=2.13.0->spacy) (3.4.4)\n",
            "Requirement already satisfied: idna<4,>=2.5 in /usr/local/lib/python3.12/dist-packages (from requests<3.0.0,>=2.13.0->spacy) (3.11)\n",
            "Requirement already satisfied: urllib3<3,>=1.21.1 in /usr/local/lib/python3.12/dist-packages (from requests<3.0.0,>=2.13.0->spacy) (2.5.0)\n",
            "Requirement already satisfied: certifi>=2017.4.17 in /usr/local/lib/python3.12/dist-packages (from requests<3.0.0,>=2.13.0->spacy) (2025.10.5)\n",
            "Requirement already satisfied: wrapt in /usr/local/lib/python3.12/dist-packages (from smart_open>=1.8.1->gensim) (1.17.3)\n",
            "Requirement already satisfied: blis<1.4.0,>=1.3.0 in /usr/local/lib/python3.12/dist-packages (from thinc<8.4.0,>=8.3.4->spacy) (1.3.0)\n",
            "Requirement already satisfied: confection<1.0.0,>=0.0.1 in /usr/local/lib/python3.12/dist-packages (from thinc<8.4.0,>=8.3.4->spacy) (0.1.5)\n",
            "Requirement already satisfied: shellingham>=1.3.0 in /usr/local/lib/python3.12/dist-packages (from typer<1.0.0,>=0.3.0->spacy) (1.5.4)\n",
            "Requirement already satisfied: rich>=10.11.0 in /usr/local/lib/python3.12/dist-packages (from typer<1.0.0,>=0.3.0->spacy) (13.9.4)\n",
            "Requirement already satisfied: cloudpathlib<1.0.0,>=0.7.0 in /usr/local/lib/python3.12/dist-packages (from weasel<0.5.0,>=0.1.0->spacy) (0.23.0)\n",
            "Requirement already satisfied: MarkupSafe>=2.0 in /usr/local/lib/python3.12/dist-packages (from jinja2->spacy) (3.0.3)\n",
            "Requirement already satisfied: marisa-trie>=1.1.0 in /usr/local/lib/python3.12/dist-packages (from language-data>=1.2->langcodes<4.0.0,>=3.2.0->spacy) (1.3.1)\n",
            "Requirement already satisfied: markdown-it-py>=2.2.0 in /usr/local/lib/python3.12/dist-packages (from rich>=10.11.0->typer<1.0.0,>=0.3.0->spacy) (4.0.0)\n",
            "Requirement already satisfied: pygments<3.0.0,>=2.13.0 in /usr/local/lib/python3.12/dist-packages (from rich>=10.11.0->typer<1.0.0,>=0.3.0->spacy) (2.19.2)\n",
            "Requirement already satisfied: mdurl~=0.1 in /usr/local/lib/python3.12/dist-packages (from markdown-it-py>=2.2.0->rich>=10.11.0->typer<1.0.0,>=0.3.0->spacy) (0.1.2)\n",
            "Downloading gensim-4.4.0-cp312-cp312-manylinux_2_24_x86_64.manylinux_2_28_x86_64.whl (27.9 MB)\n",
            "\u001b[2K   \u001b[90m━━━━━━━━━━━━━━━━━━━━━━━━━━━━━━━━━━━━━━━━\u001b[0m \u001b[32m27.9/27.9 MB\u001b[0m \u001b[31m48.4 MB/s\u001b[0m eta \u001b[36m0:00:00\u001b[0m\n",
            "\u001b[?25hInstalling collected packages: gensim\n",
            "Successfully installed gensim-4.4.0\n"
          ]
        }
      ]
    },
    {
      "cell_type": "code",
      "source": [
        "import pandas as pd\n",
        "import numpy as np\n",
        "import re\n",
        "import nltk\n",
        "from nltk.corpus import stopwords\n",
        "from sklearn.feature_extraction.text import TfidfVectorizer\n",
        "from sklearn.decomposition import NMF\n",
        "from gensim import corpora\n",
        "from gensim.models.ldamodel import LdaModel\n",
        "from gensim.models.coherencemodel import CoherenceModel\n",
        "import matplotlib.pyplot as plt"
      ],
      "metadata": {
        "id": "ZuIEOkvTSlov"
      },
      "execution_count": 3,
      "outputs": []
    },
    {
      "cell_type": "code",
      "source": [
        "import kagglehub\n",
        "\n",
        "# Download data\n",
        "path = kagglehub.dataset_download(\"shashwatwork/consume-complaints-dataset-fo-nlp\")\n",
        "\n",
        "print(\"Path to dataset files:\", path)"
      ],
      "metadata": {
        "colab": {
          "base_uri": "https://localhost:8080/"
        },
        "id": "wc-oCVz5Slmk",
        "outputId": "44e3a03d-3b00-46c5-80dd-614791756859"
      },
      "execution_count": 4,
      "outputs": [
        {
          "output_type": "stream",
          "name": "stdout",
          "text": [
            "Downloading from https://www.kaggle.com/api/v1/datasets/download/shashwatwork/consume-complaints-dataset-fo-nlp?dataset_version_number=1...\n"
          ]
        },
        {
          "output_type": "stream",
          "name": "stderr",
          "text": [
            "100%|██████████| 19.8M/19.8M [00:00<00:00, 164MB/s]"
          ]
        },
        {
          "output_type": "stream",
          "name": "stdout",
          "text": [
            "Extracting files...\n"
          ]
        },
        {
          "output_type": "stream",
          "name": "stderr",
          "text": [
            "\n"
          ]
        },
        {
          "output_type": "stream",
          "name": "stdout",
          "text": [
            "Path to dataset files: /root/.cache/kagglehub/datasets/shashwatwork/consume-complaints-dataset-fo-nlp/versions/1\n"
          ]
        }
      ]
    },
    {
      "cell_type": "code",
      "source": [
        "# 1. load data\n",
        "\n",
        "import pandas as pd\n",
        "\n",
        "# Construct the full path to the CSV file\n",
        "csv_file_path = \"/root/.cache/kagglehub/datasets/shashwatwork/consume-complaints-dataset-fo-nlp/versions/1/complaints_processed.csv\"\n",
        "\n",
        "df = pd.read_csv(csv_file_path, nrows=5000)\n",
        "df = df.dropna(subset=['narrative'])\n",
        "print(f\"Loaded {len(df)} complaints\")"
      ],
      "metadata": {
        "colab": {
          "base_uri": "https://localhost:8080/"
        },
        "id": "2rMFX3kXSqp8",
        "outputId": "80813d72-baf7-4f65-a528-eaa524bb16ed"
      },
      "execution_count": 5,
      "outputs": [
        {
          "output_type": "stream",
          "name": "stdout",
          "text": [
            "Loaded 4997 complaints\n"
          ]
        }
      ]
    },
    {
      "cell_type": "code",
      "source": [
        "# 2. Simple preprocessing\n",
        "nltk.download('stopwords')\n",
        "nltk.download('punkt')\n",
        "stop_words = set(stopwords.words('english'))\n",
        "\n",
        "def clean_text(text):\n",
        "    text = str(text).lower()\n",
        "    text = re.sub(r'[^a-zA-Z\\s]', '', text)  # Remove punctuation and numbers\n",
        "    words = text.split()\n",
        "    words = [w for w in words if w not in stop_words and len(w) > 2]\n",
        "    return ' '.join(words)\n",
        "\n",
        "df['clean_text'] = df['narrative'].apply(clean_text)\n",
        "print(\"Text cleaning completed\")"
      ],
      "metadata": {
        "colab": {
          "base_uri": "https://localhost:8080/"
        },
        "id": "khGLaB2LSqmd",
        "outputId": "afa6d711-fa87-481e-93d3-e0592efcf4df"
      },
      "execution_count": 6,
      "outputs": [
        {
          "output_type": "stream",
          "name": "stderr",
          "text": [
            "[nltk_data] Downloading package stopwords to /root/nltk_data...\n",
            "[nltk_data]   Unzipping corpora/stopwords.zip.\n",
            "[nltk_data] Downloading package punkt to /root/nltk_data...\n",
            "[nltk_data]   Unzipping tokenizers/punkt.zip.\n"
          ]
        },
        {
          "output_type": "stream",
          "name": "stdout",
          "text": [
            "Text cleaning completed\n"
          ]
        }
      ]
    },
    {
      "cell_type": "code",
      "source": [
        "# 3. Prepare data for topic modeling\n",
        "# Create tokens\n",
        "token_lists = [text.split() for text in df['clean_text']]\n",
        "\n",
        "# Create dictionary and corpus\n",
        "dictionary = corpora.Dictionary(token_lists)\n",
        "dictionary.filter_extremes(no_below=10, no_above=0.9)\n",
        "corpus = [dictionary.doc2bow(tokens) for tokens in token_lists]\n",
        "\n",
        "# 4. Find optimal number of topics using coherence scores\n",
        "print(\"\\n=== FINDING OPTIMAL NUMBER OF TOPICS ===\")\n",
        "\n",
        "coherence_scores = []\n",
        "topic_range = range(2, 8)  # Test 2 to 7 topics\n",
        "for num_topics in topic_range:\n",
        "    lda_model = LdaModel(corpus=corpus, id2word=dictionary,\n",
        "                        num_topics=num_topics, passes=10, random_state=42)\n",
        "\n",
        "    coherence_model = CoherenceModel(model=lda_model, texts=token_lists,\n",
        "                                   dictionary=dictionary, coherence='c_v')\n",
        "    coherence_score = coherence_model.get_coherence()\n",
        "    coherence_scores.append(coherence_score)\n",
        "    print(f\"Topics: {num_topics}, Coherence: {coherence_score:.4f}\")\n",
        "\n",
        "# Find best topic number\n",
        "best_idx = np.argmax(coherence_scores)\n",
        "optimal_topics = topic_range[best_idx]\n",
        "best_coherence = coherence_scores[best_idx]\n",
        "print(f\"\\nOPTIMAL TOPICS: {optimal_topics} (Coherence: {best_coherence:.4f})\")\n",
        "# Plot coherence scores\n",
        "plt.figure(figsize=(10, 6))\n",
        "plt.plot(topic_range, coherence_scores, marker='o', linewidth=2, markersize=8)\n",
        "plt.xlabel('Number of Topics')\n",
        "plt.ylabel('Coherence Score')\n",
        "plt.title(f'Optimal Number of Topics: {optimal_topics}')\n",
        "plt.grid(True)\n",
        "plt.show()\n",
        "\n"
      ],
      "metadata": {
        "colab": {
          "base_uri": "https://localhost:8080/",
          "height": 738
        },
        "id": "gQLVDqQITza-",
        "outputId": "cc21461b-663e-477b-c6c2-b4913689a8d6"
      },
      "execution_count": 7,
      "outputs": [
        {
          "output_type": "stream",
          "name": "stdout",
          "text": [
            "\n",
            "=== FINDING OPTIMAL NUMBER OF TOPICS ===\n",
            "Topics: 2, Coherence: 0.5903\n",
            "Topics: 3, Coherence: 0.5878\n",
            "Topics: 4, Coherence: 0.5785\n",
            "Topics: 5, Coherence: 0.5380\n",
            "Topics: 6, Coherence: 0.5345\n",
            "Topics: 7, Coherence: 0.5612\n",
            "\n",
            "OPTIMAL TOPICS: 2 (Coherence: 0.5903)\n"
          ]
        },
        {
          "output_type": "display_data",
          "data": {
            "text/plain": [
              "<Figure size 1000x600 with 1 Axes>"
            ],
            "image/png": "[encoded data removed]"
          },
          "metadata": {}
        }
      ]
    },
    {
      "cell_type": "code",
      "source": [
        "# 5. Train final models with optimal topics\n",
        "print(f\"\\n=== TRAINING MODELS WITH {optimal_topics} TOPICS ===\")\n",
        "\n",
        "# LDA Model\n",
        "final_lda = LdaModel(corpus=corpus, id2word=dictionary,\n",
        "                    num_topics=optimal_topics, passes=15, random_state=42)\n",
        "\n",
        "# TF-IDF for NMF\n",
        "tfidf = TfidfVectorizer(max_features=2000, min_df=5, max_df=0.9)\n",
        "X_tfidf = tfidf.fit_transform(df['clean_text'])\n",
        "\n",
        "# NMF Model\n",
        "nmf = NMF(n_components=optimal_topics, random_state=42)\n",
        "nmf.fit(X_tfidf)\n",
        "\n",
        "# 6. Create topic overview\n",
        "print(\"\\n=== TOPIC OVERVIEW ===\")\n",
        "\n",
        "# Get LDA topics\n",
        "print(\"\\nLDA TOPICS:\")\n",
        "lda_topics = []\n",
        "for i in range(optimal_topics):\n",
        "    topic_words = final_lda.show_topic(i, topn=10)\n",
        "    words = [word for word, score in topic_words]\n",
        "    lda_topics.append(words)\n",
        "    print(f\"Topic {i+1}: {', '.join(words[:5])}\")\n",
        "\n",
        "# Get NMF topics\n",
        "print(\"\\nNMF TOPICS:\")\n",
        "feature_names = tfidf.get_feature_names_out()\n",
        "nmf_topics = []\n",
        "for i, topic in enumerate(nmf.components_):\n",
        "    top_words_idx = topic.argsort()[-10:][::-1]\n",
        "    words = [feature_names[j] for j in top_words_idx]\n",
        "    nmf_topics.append(words)\n",
        "    print(f\"Topic {i+1}: {', '.join(words[:5])}\")\n"
      ],
      "metadata": {
        "colab": {
          "base_uri": "https://localhost:8080/"
        },
        "id": "mEXUasT3TzS-",
        "outputId": "0f7e8925-999f-4f3d-8170-444fc802cd65"
      },
      "execution_count": 8,
      "outputs": [
        {
          "output_type": "stream",
          "name": "stdout",
          "text": [
            "\n",
            "=== TRAINING MODELS WITH 2 TOPICS ===\n",
            "\n",
            "=== TOPIC OVERVIEW ===\n",
            "\n",
            "LDA TOPICS:\n",
            "Topic 1: claim, reporting, collection, debt, compliance\n",
            "Topic 2: account, credit, consumer, report, information\n",
            "\n",
            "NMF TOPICS:\n",
            "Topic 1: claim, reporting, collection, compliance, plaintiff\n",
            "Topic 2: report, deletion, qualified, entry, discovered\n"
          ]
        }
      ]
    },
    {
      "cell_type": "code",
      "source": [
        "# 7. Compare topics side by side\n",
        "print(\"\\n=== TOPIC COMPARISON ===\")\n",
        "print(\"LDA vs NMF Topics:\")\n",
        "print(\"-\" * 60)\n",
        "for i in range(optimal_topics):\n",
        "    print(f\"TOPIC {i+1}:\")\n",
        "    print(f\"  LDA: {', '.join(lda_topics[i][:5])}\")\n",
        "    print(f\"  NMF: {', '.join(nmf_topics[i][:5])}\")\n",
        "    print()\n",
        "\n",
        "# 8. Calculate final coherence score\n",
        "coherence_model_final = CoherenceModel(model=final_lda, texts=token_lists,\n",
        "                                     dictionary=dictionary, coherence='c_v')\n",
        "final_coherence = coherence_model_final.get_coherence()\n",
        "print(f\"\\nFINAL COHERENCE SCORE: {final_coherence:.4f}\")"
      ],
      "metadata": {
        "colab": {
          "base_uri": "https://localhost:8080/"
        },
        "id": "R34UpcyoTzPZ",
        "outputId": "98f79796-8d81-4cc7-87c9-e731bff3c5da"
      },
      "execution_count": 9,
      "outputs": [
        {
          "output_type": "stream",
          "name": "stdout",
          "text": [
            "\n",
            "=== TOPIC COMPARISON ===\n",
            "LDA vs NMF Topics:\n",
            "------------------------------------------------------------\n",
            "TOPIC 1:\n",
            "  LDA: claim, reporting, collection, debt, compliance\n",
            "  NMF: claim, reporting, collection, compliance, plaintiff\n",
            "\n",
            "TOPIC 2:\n",
            "  LDA: account, credit, consumer, report, information\n",
            "  NMF: report, deletion, qualified, entry, discovered\n",
            "\n",
            "\n",
            "FINAL COHERENCE SCORE: 0.5815\n"
          ]
        }
      ]
    },
    {
      "cell_type": "code",
      "source": [
        "# 9. Save results to files\n",
        "# Save topic keywords\n",
        "with open('topic_keywords.txt', 'w') as f:\n",
        "    f.write(f\"Optimal Topics: {optimal_topics}\\n\")\n",
        "    f.write(f\"Coherence Score: {final_coherence:.4f}\\n\\n\")\n",
        "\n",
        "    f.write(\"LDA TOPICS:\\n\")\n",
        "    for i, topic in enumerate(lda_topics):\n",
        "        f.write(f\"Topic {i+1}: {', '.join(topic[:8])}\\n\")\n",
        "\n",
        "    f.write(\"\\nNMF TOPICS:\\n\")\n",
        "    for i, topic in enumerate(nmf_topics):\n",
        "        f.write(f\"Topic {i+1}: {', '.join(topic[:8])}\\n\")\n",
        "\n",
        "print(\"\\nTopic keywords saved to 'topic_keywords.txt'\")\n",
        "\n",
        "# 10. Simple visualization of topic distribution\n",
        "print(\"\\n=== TOPIC DISTRIBUTION ===\")\n",
        "\n",
        "# Count documents per topic (LDA)\n",
        "topic_counts = [0] * optimal_topics\n",
        "for doc in corpus:\n",
        "    topic_probs = final_lda.get_document_topics(doc)\n",
        "    if topic_probs:\n",
        "        main_topic = max(topic_probs, key=lambda x: x[1])[0]\n",
        "        topic_counts[main_topic] += 1\n",
        "\n",
        "# Print distribution\n",
        "for i in range(optimal_topics):\n",
        "    percentage = (topic_counts[i] / len(corpus)) * 100\n",
        "    print(f\"Topic {i+1}: {topic_counts[i]} documents ({percentage:.1f}%)\")\n",
        "\n",
        "print(\"\\n=== ANALYSIS COMPLETE ===\")\n",
        "print(f\"Summary: Found {optimal_topics} optimal topics with coherence {final_coherence:.4f}\")"
      ],
      "metadata": {
        "id": "TOHCnNBHTzKR",
        "colab": {
          "base_uri": "https://localhost:8080/"
        },
        "outputId": "8c700eab-ecff-4a7a-8d35-c627540a9c25"
      },
      "execution_count": 10,
      "outputs": [
        {
          "output_type": "stream",
          "name": "stdout",
          "text": [
            "\n",
            "Topic keywords saved to 'topic_keywords.txt'\n",
            "\n",
            "=== TOPIC DISTRIBUTION ===\n",
            "Topic 1: 470 documents (9.4%)\n",
            "Topic 2: 4527 documents (90.6%)\n",
            "\n",
            "=== ANALYSIS COMPLETE ===\n",
            "Summary: Found 2 optimal topics with coherence 0.5815\n"
          ]
        }
      ]
    }
  ]
}