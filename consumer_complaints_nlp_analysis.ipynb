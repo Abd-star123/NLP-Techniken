{
  "nbformat": 4,
  "nbformat_minor": 0,
  "metadata": {
    "colab": {
      "provenance": []
    },
    "kernelspec": {
      "name": "python3",
      "display_name": "Python 3"
    },
    "language_info": {
      "name": "python"
    }
  },
  "cells": [
    {
      "cell_type": "code",
      "source": [
        "# Install all required libraries\n",
        "!pip install pandas numpy nltk spacy scikit-learn gensim"
      ],
      "metadata": {
        "id": "Qyc9xXoCSlu1"
      },
      "execution_count": null,
      "outputs": []
    },
    {
      "cell_type": "code",
      "source": [
        "import pandas as pd\n",
        "import numpy as np\n",
        "import re, string, nltk, spacy\n",
        "from nltk.corpus import stopwords\n",
        "from sklearn.feature_extraction.text import TfidfVectorizer\n",
        "from sklearn.decomposition import NMF\n",
        "from gensim import corpora\n",
        "from gensim.models.ldamodel import LdaModel\n"
      ],
      "metadata": {
        "id": "ZuIEOkvTSlov"
      },
      "execution_count": 1,
      "outputs": []
    },
    {
      "cell_type": "code",
      "source": [
        "import kagglehub\n",
        "\n",
        "# Download data\n",
        "path = kagglehub.dataset_download(\"shashwatwork/consume-complaints-dataset-fo-nlp\")\n",
        "\n",
        "print(\"Path to dataset files:\", path)"
      ],
      "metadata": {
        "colab": {
          "base_uri": "https://localhost:8080/"
        },
        "id": "wc-oCVz5Slmk",
        "outputId": "40582b29-3df0-4f10-b23f-4d3deca128e9"
      },
      "execution_count": 1,
      "outputs": [
        {
          "output_type": "stream",
          "name": "stdout",
          "text": [
            "Downloading from https://www.kaggle.com/api/v1/datasets/download/shashwatwork/consume-complaints-dataset-fo-nlp?dataset_version_number=1...\n"
          ]
        },
        {
          "output_type": "stream",
          "name": "stderr",
          "text": [
            "100%|██████████| 19.8M/19.8M [00:00<00:00, 112MB/s]"
          ]
        },
        {
          "output_type": "stream",
          "name": "stdout",
          "text": [
            "Extracting files...\n"
          ]
        },
        {
          "output_type": "stream",
          "name": "stderr",
          "text": [
            "\n"
          ]
        },
        {
          "output_type": "stream",
          "name": "stdout",
          "text": [
            "Path to dataset files: /root/.cache/kagglehub/datasets/shashwatwork/consume-complaints-dataset-fo-nlp/versions/1\n"
          ]
        }
      ]
    },
    {
      "cell_type": "code",
      "source": [
        "# 1. load data\n",
        "\n",
        "import pandas as pd\n",
        "\n",
        "# Construct the full path to the CSV file\n",
        "csv_file_path = \"/root/.cache/kagglehub/datasets/shashwatwork/consume-complaints-dataset-fo-nlp/versions/1/complaints_processed.csv\"\n",
        "\n",
        "# Read the CSV file into a pandas DataFrame\n",
        "df = pd.read_csv(csv_file_path, nrows=5000)\n",
        "\n",
        "# Display the first few rows of the DataFrame\n",
        "display(df.head())"
      ],
      "metadata": {
        "colab": {
          "base_uri": "https://localhost:8080/",
          "height": 206
        },
        "id": "2rMFX3kXSqp8",
        "outputId": "8fb9c73a-70db-494b-cf28-3162cb4e4185"
      },
      "execution_count": 14,
      "outputs": [
        {
          "output_type": "display_data",
          "data": {
            "text/plain": [
              "   Unnamed: 0           product  \\\n",
              "0           0       credit_card   \n",
              "1           1       credit_card   \n",
              "2           2    retail_banking   \n",
              "3           3  credit_reporting   \n",
              "4           4  credit_reporting   \n",
              "\n",
              "                                           narrative  \n",
              "0  purchase order day shipping amount receive pro...  \n",
              "1  forwarded message date tue subject please inve...  \n",
              "2  forwarded message cc sent friday pdt subject f...  \n",
              "3  payment history missing credit report speciali...  \n",
              "4  payment history missing credit report made mis...  "
            ],
            "text/html": [
              "\n",
              "  <div id=\"df-0ce4292f-3309-44e2-bf8a-42c40ba2034f\" class=\"colab-df-container\">\n",
              "    <div>\n",
              "<style scoped>\n",
              "    .dataframe tbody tr th:only-of-type {\n",
              "        vertical-align: middle;\n",
              "    }\n",
              "\n",
              "    .dataframe tbody tr th {\n",
              "        vertical-align: top;\n",
              "    }\n",
              "\n",
              "    .dataframe thead th {\n",
              "        text-align: right;\n",
              "    }\n",
              "</style>\n",
              "<table border=\"1\" class=\"dataframe\">\n",
              "  <thead>\n",
              "    <tr style=\"text-align: right;\">\n",
              "      <th></th>\n",
              "      <th>Unnamed: 0</th>\n",
              "      <th>product</th>\n",
              "      <th>narrative</th>\n",
              "    </tr>\n",
              "  </thead>\n",
              "  <tbody>\n",
              "    <tr>\n",
              "      <th>0</th>\n",
              "      <td>0</td>\n",
              "      <td>credit_card</td>\n",
              "      <td>purchase order day shipping amount receive pro...</td>\n",
              "    </tr>\n",
              "    <tr>\n",
              "      <th>1</th>\n",
              "      <td>1</td>\n",
              "      <td>credit_card</td>\n",
              "      <td>forwarded message date tue subject please inve...</td>\n",
              "    </tr>\n",
              "    <tr>\n",
              "      <th>2</th>\n",
              "      <td>2</td>\n",
              "      <td>retail_banking</td>\n",
              "      <td>forwarded message cc sent friday pdt subject f...</td>\n",
              "    </tr>\n",
              "    <tr>\n",
              "      <th>3</th>\n",
              "      <td>3</td>\n",
              "      <td>credit_reporting</td>\n",
              "      <td>payment history missing credit report speciali...</td>\n",
              "    </tr>\n",
              "    <tr>\n",
              "      <th>4</th>\n",
              "      <td>4</td>\n",
              "      <td>credit_reporting</td>\n",
              "      <td>payment history missing credit report made mis...</td>\n",
              "    </tr>\n",
              "  </tbody>\n",
              "</table>\n",
              "</div>\n",
              "    <div class=\"colab-df-buttons\">\n",
              "\n",
              "  <div class=\"colab-df-container\">\n",
              "    <button class=\"colab-df-convert\" onclick=\"convertToInteractive('df-0ce4292f-3309-44e2-bf8a-42c40ba2034f')\"\n",
              "            title=\"Convert this dataframe to an interactive table.\"\n",
              "            style=\"display:none;\">\n",
              "\n",
              "  <svg xmlns=\"http://www.w3.org/2000/svg\" height=\"24px\" viewBox=\"0 -960 960 960\">\n",
              "    <path d=\"M120-120v-720h720v720H120Zm60-500h600v-160H180v160Zm220 220h160v-160H400v160Zm0 220h160v-160H400v160ZM180-400h160v-160H180v160Zm440 0h160v-160H620v160ZM180-180h160v-160H180v160Zm440 0h160v-160H620v160Z\"/>\n",
              "  </svg>\n",
              "    </button>\n",
              "\n",
              "  <style>\n",
              "    .colab-df-container {\n",
              "      display:flex;\n",
              "      gap: 12px;\n",
              "    }\n",
              "\n",
              "    .colab-df-convert {\n",
              "      background-color: #E8F0FE;\n",
              "      border: none;\n",
              "      border-radius: 50%;\n",
              "      cursor: pointer;\n",
              "      display: none;\n",
              "      fill: #1967D2;\n",
              "      height: 32px;\n",
              "      padding: 0 0 0 0;\n",
              "      width: 32px;\n",
              "    }\n",
              "\n",
              "    .colab-df-convert:hover {\n",
              "      background-color: #E2EBFA;\n",
              "      box-shadow: 0px 1px 2px rgba(60, 64, 67, 0.3), 0px 1px 3px 1px rgba(60, 64, 67, 0.15);\n",
              "      fill: #174EA6;\n",
              "    }\n",
              "\n",
              "    .colab-df-buttons div {\n",
              "      margin-bottom: 4px;\n",
              "    }\n",
              "\n",
              "    [theme=dark] .colab-df-convert {\n",
              "      background-color: #3B4455;\n",
              "      fill: #D2E3FC;\n",
              "    }\n",
              "\n",
              "    [theme=dark] .colab-df-convert:hover {\n",
              "      background-color: #434B5C;\n",
              "      box-shadow: 0px 1px 3px 1px rgba(0, 0, 0, 0.15);\n",
              "      filter: drop-shadow(0px 1px 2px rgba(0, 0, 0, 0.3));\n",
              "      fill: #FFFFFF;\n",
              "    }\n",
              "  </style>\n",
              "\n",
              "    <script>\n",
              "      const buttonEl =\n",
              "        document.querySelector('#df-0ce4292f-3309-44e2-bf8a-42c40ba2034f button.colab-df-convert');\n",
              "      buttonEl.style.display =\n",
              "        google.colab.kernel.accessAllowed ? 'block' : 'none';\n",
              "\n",
              "      async function convertToInteractive(key) {\n",
              "        const element = document.querySelector('#df-0ce4292f-3309-44e2-bf8a-42c40ba2034f');\n",
              "        const dataTable =\n",
              "          await google.colab.kernel.invokeFunction('convertToInteractive',\n",
              "                                                    [key], {});\n",
              "        if (!dataTable) return;\n",
              "\n",
              "        const docLinkHtml = 'Like what you see? Visit the ' +\n",
              "          '<a target=\"_blank\" href=https://colab.research.google.com/notebooks/data_table.ipynb>data table notebook</a>'\n",
              "          + ' to learn more about interactive tables.';\n",
              "        element.innerHTML = '';\n",
              "        dataTable['output_type'] = 'display_data';\n",
              "        await google.colab.output.renderOutput(dataTable, element);\n",
              "        const docLink = document.createElement('div');\n",
              "        docLink.innerHTML = docLinkHtml;\n",
              "        element.appendChild(docLink);\n",
              "      }\n",
              "    </script>\n",
              "  </div>\n",
              "\n",
              "\n",
              "    <div id=\"df-7a10f6b1-f4d2-4e5e-8761-1c863cb3637c\">\n",
              "      <button class=\"colab-df-quickchart\" onclick=\"quickchart('df-7a10f6b1-f4d2-4e5e-8761-1c863cb3637c')\"\n",
              "                title=\"Suggest charts\"\n",
              "                style=\"display:none;\">\n",
              "\n",
              "<svg xmlns=\"http://www.w3.org/2000/svg\" height=\"24px\"viewBox=\"0 0 24 24\"\n",
              "     width=\"24px\">\n",
              "    <g>\n",
              "        <path d=\"M19 3H5c-1.1 0-2 .9-2 2v14c0 1.1.9 2 2 2h14c1.1 0 2-.9 2-2V5c0-1.1-.9-2-2-2zM9 17H7v-7h2v7zm4 0h-2V7h2v10zm4 0h-2v-4h2v4z\"/>\n",
              "    </g>\n",
              "</svg>\n",
              "      </button>\n",
              "\n",
              "<style>\n",
              "  .colab-df-quickchart {\n",
              "      --bg-color: #E8F0FE;\n",
              "      --fill-color: #1967D2;\n",
              "      --hover-bg-color: #E2EBFA;\n",
              "      --hover-fill-color: #174EA6;\n",
              "      --disabled-fill-color: #AAA;\n",
              "      --disabled-bg-color: #DDD;\n",
              "  }\n",
              "\n",
              "  [theme=dark] .colab-df-quickchart {\n",
              "      --bg-color: #3B4455;\n",
              "      --fill-color: #D2E3FC;\n",
              "      --hover-bg-color: #434B5C;\n",
              "      --hover-fill-color: #FFFFFF;\n",
              "      --disabled-bg-color: #3B4455;\n",
              "      --disabled-fill-color: #666;\n",
              "  }\n",
              "\n",
              "  .colab-df-quickchart {\n",
              "    background-color: var(--bg-color);\n",
              "    border: none;\n",
              "    border-radius: 50%;\n",
              "    cursor: pointer;\n",
              "    display: none;\n",
              "    fill: var(--fill-color);\n",
              "    height: 32px;\n",
              "    padding: 0;\n",
              "    width: 32px;\n",
              "  }\n",
              "\n",
              "  .colab-df-quickchart:hover {\n",
              "    background-color: var(--hover-bg-color);\n",
              "    box-shadow: 0 1px 2px rgba(60, 64, 67, 0.3), 0 1px 3px 1px rgba(60, 64, 67, 0.15);\n",
              "    fill: var(--button-hover-fill-color);\n",
              "  }\n",
              "\n",
              "  .colab-df-quickchart-complete:disabled,\n",
              "  .colab-df-quickchart-complete:disabled:hover {\n",
              "    background-color: var(--disabled-bg-color);\n",
              "    fill: var(--disabled-fill-color);\n",
              "    box-shadow: none;\n",
              "  }\n",
              "\n",
              "  .colab-df-spinner {\n",
              "    border: 2px solid var(--fill-color);\n",
              "    border-color: transparent;\n",
              "    border-bottom-color: var(--fill-color);\n",
              "    animation:\n",
              "      spin 1s steps(1) infinite;\n",
              "  }\n",
              "\n",
              "  @keyframes spin {\n",
              "    0% {\n",
              "      border-color: transparent;\n",
              "      border-bottom-color: var(--fill-color);\n",
              "      border-left-color: var(--fill-color);\n",
              "    }\n",
              "    20% {\n",
              "      border-color: transparent;\n",
              "      border-left-color: var(--fill-color);\n",
              "      border-top-color: var(--fill-color);\n",
              "    }\n",
              "    30% {\n",
              "      border-color: transparent;\n",
              "      border-left-color: var(--fill-color);\n",
              "      border-top-color: var(--fill-color);\n",
              "      border-right-color: var(--fill-color);\n",
              "    }\n",
              "    40% {\n",
              "      border-color: transparent;\n",
              "      border-right-color: var(--fill-color);\n",
              "      border-top-color: var(--fill-color);\n",
              "    }\n",
              "    60% {\n",
              "      border-color: transparent;\n",
              "      border-right-color: var(--fill-color);\n",
              "    }\n",
              "    80% {\n",
              "      border-color: transparent;\n",
              "      border-right-color: var(--fill-color);\n",
              "      border-bottom-color: var(--fill-color);\n",
              "    }\n",
              "    90% {\n",
              "      border-color: transparent;\n",
              "      border-bottom-color: var(--fill-color);\n",
              "    }\n",
              "  }\n",
              "</style>\n",
              "\n",
              "      <script>\n",
              "        async function quickchart(key) {\n",
              "          const quickchartButtonEl =\n",
              "            document.querySelector('#' + key + ' button');\n",
              "          quickchartButtonEl.disabled = true;  // To prevent multiple clicks.\n",
              "          quickchartButtonEl.classList.add('colab-df-spinner');\n",
              "          try {\n",
              "            const charts = await google.colab.kernel.invokeFunction(\n",
              "                'suggestCharts', [key], {});\n",
              "          } catch (error) {\n",
              "            console.error('Error during call to suggestCharts:', error);\n",
              "          }\n",
              "          quickchartButtonEl.classList.remove('colab-df-spinner');\n",
              "          quickchartButtonEl.classList.add('colab-df-quickchart-complete');\n",
              "        }\n",
              "        (() => {\n",
              "          let quickchartButtonEl =\n",
              "            document.querySelector('#df-7a10f6b1-f4d2-4e5e-8761-1c863cb3637c button');\n",
              "          quickchartButtonEl.style.display =\n",
              "            google.colab.kernel.accessAllowed ? 'block' : 'none';\n",
              "        })();\n",
              "      </script>\n",
              "    </div>\n",
              "\n",
              "    </div>\n",
              "  </div>\n"
            ],
            "application/vnd.google.colaboratory.intrinsic+json": {
              "type": "dataframe",
              "summary": "{\n  \"name\": \"display(df\",\n  \"rows\": 5,\n  \"fields\": [\n    {\n      \"column\": \"Unnamed: 0\",\n      \"properties\": {\n        \"dtype\": \"number\",\n        \"std\": 1,\n        \"min\": 0,\n        \"max\": 4,\n        \"num_unique_values\": 5,\n        \"samples\": [\n          1,\n          4,\n          2\n        ],\n        \"semantic_type\": \"\",\n        \"description\": \"\"\n      }\n    },\n    {\n      \"column\": \"product\",\n      \"properties\": {\n        \"dtype\": \"string\",\n        \"num_unique_values\": 3,\n        \"samples\": [\n          \"credit_card\",\n          \"retail_banking\",\n          \"credit_reporting\"\n        ],\n        \"semantic_type\": \"\",\n        \"description\": \"\"\n      }\n    },\n    {\n      \"column\": \"narrative\",\n      \"properties\": {\n        \"dtype\": \"string\",\n        \"num_unique_values\": 5,\n        \"samples\": [\n          \"forwarded message date tue subject please investigate comenity bank retailer card scam sent hello name scammed comenity bank credit card provider company childrens place new york forever victoria secret original credit comenity bank lower limit began charge overage fee along late fee began pay close attention card find limit also changed well incurring overage late fee reached company comenity bank stated would change credit limit original limit reached told summit payment account corrected comenity bank credit card impacted credit score plummeted negative status im currently paying price due corruption affected detrimental way debt due company charging overage fee well late fee even initial credit limit fluctuating tremendously company charge major fee account willing correct account nervous said attorney reason im reaching im employee company ruining credit plz help name contact info thank\",\n          \"payment history missing credit report made mistake put account forbearance without authorization knowledge matter fact automatic payment setup month monthly mortgage paid full noticed issue account marked forbearance credit report tried get new home loan another new bank contacted immediately asked fix error provide letter detail please see asks forbearance issue seemed fixed however credit report payment history missing new bank able approve new loan issue missing payment history contacted time since phone ask thing report payment history transunion fix missing data issue provide letter show account never forbearance payment history past month however waiting week countless email phone call talk multiple supervisor able get either one thing without issue fixed new bank process new loan application therefore need help immediately get fixed\",\n          \"forwarded message cc sent friday pdt subject final legal payment well fargo well fargo clearly wrong need look actually opened account see court hearing several different government agency reporting well including branch put open account numerous fraudulent charge debit card connected account clearly due fact well fargo maintain clearly required encryption card keep secure adding damage request small claim lawsuit time take away running business branch required come branch multiple time get fraudulent charge removed actually present strong case proper consumer protection agency well fargo immediately barred issuing account debit card insure agency card adequate prevent fraudulent use also requesting punitive treble damage sum hour take work handle lawsuit along legal cost filing lawsuit county small claim court today well fargo outrageous fraudulent conduct clearly warrant punitive damage also sharing every possible consumer protection agency find would think well fargo enough adverse publicity fraudulent conduct last year introduce small claim suit clearly establishing well fargo established business practice fraud customer ca judge really need reminded might want immediately run bonus payment legal department\"\n        ],\n        \"semantic_type\": \"\",\n        \"description\": \"\"\n      }\n    }\n  ]\n}"
            }
          },
          "metadata": {}
        }
      ]
    },
    {
      "cell_type": "code",
      "source": [
        "\n",
        "# 2. Preprocessing\n",
        "nltk.download(\"stopwords\")\n",
        "nltk.download(\"punkt\")\n",
        "nlp = spacy.load(\"en_core_web_sm\")\n",
        "stop_words = set(stopwords.words(\"english\"))\n",
        "punct_table = str.maketrans(\"\", \"\", string.punctuation)\n",
        "\n",
        "clean_texts = []\n",
        "token_lists = []\n",
        "\n",
        "for text in df[\"narrative\"].astype(str):\n",
        "    text = text.lower().translate(punct_table)\n",
        "    doc = nlp(text)\n",
        "    tokens = [t.lemma_ for t in doc if t.is_alpha and t.lemma_ not in stop_words and len(t) > 2]\n",
        "    clean_texts.append(\" \".join(tokens))\n",
        "    token_lists.append(tokens)\n",
        "\n",
        "df[\"clean_text\"] = clean_texts\n",
        "print(\"Example cleaned text:\\n\", df[\"clean_text\"].iloc[0])\n",
        "\n",
        "\n"
      ],
      "metadata": {
        "colab": {
          "base_uri": "https://localhost:8080/"
        },
        "id": "khGLaB2LSqmd",
        "outputId": "0a5e9f41-42b5-4d0f-8ad4-1e1fba830397"
      },
      "execution_count": 15,
      "outputs": [
        {
          "output_type": "stream",
          "name": "stderr",
          "text": [
            "[nltk_data] Downloading package stopwords to /root/nltk_data...\n",
            "[nltk_data]   Package stopwords is already up-to-date!\n",
            "[nltk_data] Downloading package punkt to /root/nltk_data...\n",
            "[nltk_data]   Package punkt is already up-to-date!\n"
          ]
        },
        {
          "output_type": "stream",
          "name": "stdout",
          "text": [
            "Example cleaned text:\n",
            " purchase order day shipping amount receive product week send followup email exact verbiage pay two day shipping receive order company respond sorry inform due unusually high order volume order ship several week stock since early due high demand although continue take order guarantee receive order place due time mask order exact shipping date right however guarantee ship soon soon deliver product get small shipment shipping first come first serve basis appreciate patience fulfill order quickly recommend keeping order lose place line cancel distributor stock moment prefer cancel please note ask via email cancel accordance cancellation policy agree checkout electronic inventory online request order cancel refund issue cancel order send verification order cancel refunded item particulate respirator refunded subtotal shipping tax total usd visa end refund call dispute amount state nothing need submit address issue recharge item remove call back dispute amount transaction rebillmerchandiserobert purchase thu post purchase appear statement transaction rebill follow see status case submit documentation showing cancel order suppose submit refund call back speak manager case state dispute rule favor charge remove card capital one remove purchase bill purchase adjustmentmerchandiserobert post fri purchase appear statement purchase adjustment capital one recharge amount transaction rebillmerchandiserobert purchase thu post mon purchase appear statement transaction rebill call capital one request recharge state visa rule case pretend remove purchase know anything case manager ruling favor\n"
          ]
        }
      ]
    },
    {
      "cell_type": "code",
      "source": [
        "# 3. TF-IDF Vectorization\n",
        "tfidf_vectorizer = TfidfVectorizer(max_df=0.9, min_df=5, max_features=5000)\n",
        "X_tfidf = tfidf_vectorizer.fit_transform(df[\"clean_text\"])\n",
        "print(\"TF-IDF matrix shape:\", X_tfidf.shape)\n",
        "\n",
        "# 4. Word Embeddings (spaCy average vectors)\n",
        "embeddings = []\n",
        "for text in df[\"clean_text\"]:\n",
        "    doc = nlp(text)\n",
        "    if len(doc) > 0:\n",
        "        embeddings.append(doc.vector)\n",
        "    else:\n",
        "        embeddings.append(np.zeros(nlp.vocab.vectors_length))\n",
        "X_emb = np.array(embeddings)\n",
        "print(\"Embeddings shape:\", X_emb.shape)\n",
        "\n"
      ],
      "metadata": {
        "colab": {
          "base_uri": "https://localhost:8080/"
        },
        "id": "gQLVDqQITza-",
        "outputId": "6ea1327c-c194-45db-f93a-aca5459311b2"
      },
      "execution_count": 16,
      "outputs": [
        {
          "output_type": "stream",
          "name": "stdout",
          "text": [
            "TF-IDF matrix shape: (5000, 2810)\n",
            "Embeddings shape: (5000, 96)\n"
          ]
        }
      ]
    },
    {
      "cell_type": "code",
      "source": [
        "# 5. Topic Modeling - LDA\n",
        "dictionary = corpora.Dictionary(token_lists)\n",
        "corpus = [dictionary.doc2bow(tokens) for tokens in token_lists]\n",
        "lda = LdaModel(corpus=corpus, id2word=dictionary, num_topics=5, passes=10, random_state=42)\n",
        "\n",
        "print(\"\\nLDA Topics:\")\n",
        "for idx, topic in lda.print_topics(num_words=8):\n",
        "    print(f\"Topic {idx+1}: {topic}\")\n",
        "\n",
        "# 6. Topic Modeling - NMF\n",
        "nmf = NMF(n_components=5, random_state=42)\n",
        "W = nmf.fit_transform(X_tfidf)\n",
        "H = nmf.components_\n",
        "\n",
        "feature_names = tfidf_vectorizer.get_feature_names_out()\n",
        "print(\"\\nNMF Topics:\")\n",
        "for i, topic in enumerate(H):\n",
        "    top_indices = topic.argsort()[::-1][:8]\n",
        "    print(f\"Topic {i+1}: {' '.join([feature_names[j] for j in top_indices])}\")\n",
        "\n"
      ],
      "metadata": {
        "colab": {
          "base_uri": "https://localhost:8080/"
        },
        "id": "mEXUasT3TzS-",
        "outputId": "1c0120cb-f4b9-4063-f375-edcf1685befa"
      },
      "execution_count": 8,
      "outputs": [
        {
          "output_type": "stream",
          "name": "stdout",
          "text": [
            "\n",
            "LDA Topics:\n",
            "Topic 1: 0.031*\"well\" + 0.027*\"fargo\" + 0.020*\"clearly\" + 0.020*\"fraudulent\" + 0.016*\"account\" + 0.016*\"card\" + 0.016*\"agency\" + 0.012*\"legal\"\n",
            "Topic 2: 0.043*\"experian\" + 0.033*\"credit\" + 0.016*\"fee\" + 0.013*\"report\" + 0.013*\"company\" + 0.013*\"limit\" + 0.013*\"comenity\" + 0.013*\"bank\"\n",
            "Topic 3: 0.004*\"report\" + 0.003*\"date\" + 0.003*\"account\" + 0.003*\"show\" + 0.003*\"last\" + 0.003*\"payment\" + 0.003*\"experian\" + 0.003*\"credit\"\n",
            "Topic 4: 0.027*\"payment\" + 0.026*\"new\" + 0.025*\"issue\" + 0.022*\"history\" + 0.022*\"fix\" + 0.019*\"order\" + 0.018*\"report\" + 0.018*\"forbearance\"\n",
            "Topic 5: 0.069*\"report\" + 0.051*\"date\" + 0.051*\"show\" + 0.045*\"account\" + 0.042*\"payment\" + 0.038*\"last\" + 0.026*\"credit\" + 0.023*\"information\"\n",
            "\n",
            "NMF Topics:\n",
            "Topic 1: report date show account payment company credit make\n",
            "Topic 2: issue history payment report get ask credit account\n",
            "Topic 3: remove call one due issue request company get\n",
            "Topic 4: credit company report year change name fact account\n",
            "Topic 5: account also request need payment time year remove\n"
          ]
        }
      ]
    },
    {
      "cell_type": "code",
      "source": [
        "# Collect LDA topics\n",
        "lda_topics = []\n",
        "for idx, topic in lda.show_topics(num_topics=5, num_words=8, formatted=False):\n",
        "    lda_topics.append([word for word, _ in topic])\n",
        "\n",
        "# Collect NMF topics\n",
        "nmf_topics = []\n",
        "for i, topic in enumerate(H):\n",
        "    top_indices = topic.argsort()[::-1][:8]\n",
        "    nmf_topics.append([feature_names[j] for j in top_indices])\n",
        "\n",
        "# Print side by side\n",
        "print(\"\\n=== LDA vs NMF Topic Comparison ===\")\n",
        "for i in range(5):\n",
        "    print(f\"Topic {i+1}:\")\n",
        "    print(f\"  LDA: {', '.join(lda_topics[i])}\")\n",
        "    print(f\"  NMF: {', '.join(nmf_topics[i])}\")\n",
        "    print()\n"
      ],
      "metadata": {
        "colab": {
          "base_uri": "https://localhost:8080/"
        },
        "id": "R34UpcyoTzPZ",
        "outputId": "4aa54f4d-bfad-430b-fc15-5396fe31f823"
      },
      "execution_count": 11,
      "outputs": [
        {
          "output_type": "stream",
          "name": "stdout",
          "text": [
            "\n",
            "=== LDA vs NMF Topic Comparison ===\n",
            "Topic 1:\n",
            "  LDA: well, fargo, clearly, fraudulent, account, card, agency, legal\n",
            "  NMF: report, date, show, account, payment, company, credit, make\n",
            "\n",
            "Topic 2:\n",
            "  LDA: experian, credit, fee, report, company, limit, comenity, bank\n",
            "  NMF: issue, history, payment, report, get, ask, credit, account\n",
            "\n",
            "Topic 3:\n",
            "  LDA: report, date, account, show, last, payment, experian, credit\n",
            "  NMF: remove, call, one, due, issue, request, company, get\n",
            "\n",
            "Topic 4:\n",
            "  LDA: payment, new, issue, history, fix, order, report, forbearance\n",
            "  NMF: credit, company, report, year, change, name, fact, account\n",
            "\n",
            "Topic 5:\n",
            "  LDA: report, date, show, account, payment, last, credit, information\n",
            "  NMF: account, also, request, need, payment, time, year, remove\n",
            "\n"
          ]
        }
      ]
    },
    {
      "cell_type": "code",
      "source": [],
      "metadata": {
        "id": "TOHCnNBHTzKR"
      },
      "execution_count": null,
      "outputs": []
    }
  ]
}